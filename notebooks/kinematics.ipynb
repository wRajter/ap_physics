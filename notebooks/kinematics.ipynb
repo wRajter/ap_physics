{
 "cells": [
  {
   "cell_type": "code",
   "execution_count": 2,
   "metadata": {},
   "outputs": [],
   "source": [
    "import matplotlib.pyplot as plt\n",
    "import numpy as np\n",
    "import math"
   ]
  },
  {
   "cell_type": "code",
   "execution_count": 6,
   "metadata": {},
   "outputs": [],
   "source": [
    "# FUNCTIONS\n",
    "\n",
    "def cal_positive_limits(p1, p2):\n",
    "    # Set positive axis limits based on the maximum of the two points\n",
    "    max_val = max(p1, p2, 0)  # Include 0 to ensure origin is visible\n",
    "    return max_val + 2  # Adding 2 units for margin\n",
    "\n",
    "def cal_negative_limits(p1, p2):\n",
    "    # Set negative axis limits based on the minimum of the two points\n",
    "    min_val = min(p1, p2, 0)  # Include 0 to ensure origin is visible\n",
    "    return min_val - 2  # Subtract 2 units for margin\n",
    "\n",
    "\n",
    "def draw_xy_plane(pi, pf):\n",
    "\n",
    "    # pi = point initial\n",
    "    # pf = poing final\n",
    "    # They should be a tuple, eg. pi = (2, 3)\n",
    "\n",
    "    # Create the figure and axis\n",
    "    fig, ax = plt.subplots()\n",
    "\n",
    "    pi_x, pi_y = pi\n",
    "    pf_x, pf_y = pf\n",
    "\n",
    "    # Set x and y axis limits\n",
    "    x_lim_positive = cal_positive_limits(pi_x, pf_x)\n",
    "    x_lim_negative = cal_negative_limits(pi_x, pf_x)\n",
    "    y_lim_positive = cal_positive_limits(pi_y, pf_y)\n",
    "    y_lim_negative = cal_negative_limits(pi_y, pf_y)\n",
    "\n",
    "    ax.set_xlim(x_lim_negative, x_lim_positive)\n",
    "    ax.set_ylim(y_lim_negative, y_lim_positive)\n",
    "\n",
    "    # Set integer ticks for the x and y axes\n",
    "    ax.set_xticks(np.arange(int(x_lim_negative), int(x_lim_positive) + 1, 1))  # Integers for x-axis\n",
    "    ax.set_yticks(np.arange(int(y_lim_negative), int(y_lim_positive) + 1, 1))  # Integers for y-axis\n",
    "\n",
    "    # Draw grid\n",
    "    ax.grid(True)\n",
    "\n",
    "\n",
    "    # Plot the initial point\n",
    "    ax.plot(pi_x, pi_y, marker=\"o\", color=\"red\", label=f\"Initial point ({pi_x},{pi_y})\")\n",
    "    # Plot the final point\n",
    "    ax.plot(pf_x, pf_y, marker=\"o\", color=\"red\", label=f\"Final point ({pf_x},{pf_y})\")\n",
    "\n",
    "    # Calculate the change in x and y for the vector\n",
    "    dx = pf_x - pi_x\n",
    "    dy = pf_y - pi_y\n",
    "\n",
    "    # Plot the vector from initial point to final point (use dx and dy)\n",
    "    ax.quiver(pi_x, pi_y, dx, dy, angles='xy', scale_units='xy', scale=1, color=\"blue\")\n",
    "\n",
    "    # Draw x and y axis lines\n",
    "    ax.axhline(0, color='black',linewidth=1.5)\n",
    "    ax.axvline(0, color='black',linewidth=1.5)\n",
    "\n",
    "    # Set labels and title\n",
    "    ax.set_xlabel(\"X-axis\")\n",
    "    ax.set_ylabel(\"Y-axis\")\n",
    "    ax.set_title(\"XY Plane with Vector\")\n",
    "\n",
    "    # Add legend\n",
    "    ax.legend()\n",
    "\n",
    "    # Show plot\n",
    "    return plt.show()\n",
    "\n",
    "\n",
    "def cal_displacement(xi, xf, yi, yf):\n",
    "    # xi = initial position in x-direction\n",
    "    # xf = final position in x-direction\n",
    "    # yi = initial position in y-direction\n",
    "    # yf = final position in y-direction\n",
    "    \n",
    "    # 1. Find the change (delta) in the x-direction:\n",
    "    delta_x = xf - xi\n",
    "    # 2. Find the change (delta) in the y-direction:\n",
    "    delta_y = yf - yi\n",
    "    # 3. Use the Pythagorean theorem to calculate the length of the hypotenuse \n",
    "    # (the magnitude of our displacement vector):\n",
    "    disp_vector = math.sqrt((delta_x ** 2) + (delta_y ** 2))\n",
    "    return round(disp_vector, 2)\n",
    "    "
   ]
  },
  {
   "cell_type": "markdown",
   "metadata": {},
   "source": [
    "# Kinematics"
   ]
  },
  {
   "cell_type": "markdown",
   "metadata": {},
   "source": [
    "### Basic Terms"
   ]
  },
  {
   "cell_type": "markdown",
   "metadata": {},
   "source": [
    "**Magnitude** refers to the size or quantity of something: **\"how much\" parts of something**\n",
    "\n",
    "Examples:\n",
    "- 2km represents a magnitude of distance\n",
    "- 5s represents a magnitude of time\n",
    "- 10 meters per second represents a magnitude of the velocity\n",
    "- 50 Newtons represents a magnitude of the strenght (pull or push)\n",
    "\n",
    "As you can see from the examples, the magnitude is normally expressed by a **number** and a **unite**.\n",
    "\n",
    "\n",
    "**Vector:** Quantity with magnitude (size) and direction (eg, 2km, south)\n",
    "\n",
    "**Scalar:** Quantity with magnitude (eg, 2km)\n",
    "\n",
    "**Position:** An object's location in space"
   ]
  },
  {
   "cell_type": "markdown",
   "metadata": {},
   "source": [
    "### Displacement"
   ]
  },
  {
   "cell_type": "markdown",
   "metadata": {},
   "source": [
    "**Displacement** is the shortest, straight-line path that connects the initial point to the final point, and it includes the direction from the initial to the final position.\n",
    "\n",
    "Displacement is a vector as it contains both the magnitude (the shortest distance) and the direction."
   ]
  },
  {
   "cell_type": "code",
   "execution_count": 57,
   "metadata": {},
   "outputs": [
    {
     "data": {
      "image/png": "[encoded data removed]",
      "text/plain": [
       "<Figure size 640x480 with 1 Axes>"
      ]
     },
     "metadata": {},
     "output_type": "display_data"
    }
   ],
   "source": [
    "# Draw a vector connectig the initial point and the final point -> displacement\n",
    "draw_xy_plane(pi=(1,1), pf=(3,4))"
   ]
  },
  {
   "cell_type": "markdown",
   "metadata": {},
   "source": [
    "**How to calculate the displacement**\n",
    "\n",
    "1. Find the change (delta) in the x-direction:\n",
    "$$\n",
    "\\boxed{\\Delta x = x_f - x_i} \\\\\n",
    "x_f = \\text{final position} \\\\\n",
    "x_i = \\text{initial position}\n",
    "$$\n",
    "\n",
    "2. Find the change (delta) in the y-direction:\n",
    "$$\n",
    "\\boxed{\\Delta y = y_f - y_i}\n",
    "$$\n",
    "\n",
    "3. Use the Pythagorean theorem to calculate the length of the hypotenuse (the magnitude of our displacement vector):\n",
    "$$\n",
    "\\boxed{|\\Delta \\vec{r}| = \\sqrt{(\\Delta x)^2 + (\\Delta y)^2}} \\\\\n",
    "\\Delta \\vec{r} = \\text{displacement vector}\n",
    "$$\n"
   ]
  },
  {
   "cell_type": "code",
   "execution_count": 65,
   "metadata": {},
   "outputs": [
    {
     "data": {
      "text/plain": [
       "5.0"
      ]
     },
     "execution_count": 65,
     "metadata": {},
     "output_type": "execute_result"
    }
   ],
   "source": [
    "cal_displacement(xi = 0, \n",
    "                 xf = 3, \n",
    "                 yi = 0, \n",
    "                 yf = 4)"
   ]
  },
  {
   "cell_type": "markdown",
   "metadata": {},
   "source": [
    "### Velocity"
   ]
  },
  {
   "cell_type": "markdown",
   "metadata": {},
   "source": [
    "Velocity is how quickly something moves from one place to another, and in which direction.\n",
    "\n",
    "You can think of it as how fast you’re going and where you’re headed.\n",
    "\n",
    "It’s different from speed because speed only tells you how fast, but velocity also tells you which way.\n",
    "\n",
    "A textbook definition would be:\n",
    "\n",
    "\"Velocity is the rate at which an object changes its position.\"\n",
    "\n",
    "For example, if you walk 5 meters in 2 minutes, your velocity is:\n",
    "\n",
    "$$\n",
    "\\text{Velocity} = \\frac{5 \\, \\text{meters}}{2 \\, \\text{minutes}} = 2.5 \\, \\text{meters per minute}\n",
    "$$\n",
    "\n",
    "\n",
    "But you also need to say which direction you walked—maybe north, or toward a building. That’s what makes it velocity and not just speed."
   ]
  },
  {
   "cell_type": "code",
   "execution_count": 13,
   "metadata": {},
   "outputs": [
    {
     "data": {
      "image/png": "[encoded data removed]",
      "text/plain": [
       "<Figure size 640x480 with 1 Axes>"
      ]
     },
     "metadata": {},
     "output_type": "display_data"
    }
   ],
   "source": [
    "# We can expand on the last problem:\n",
    "\n",
    "# Let's say we have a vector:\n",
    "draw_xy_plane(pi=(0,0), pf=(3,4))\n",
    "\n",
    "# The initial point starts at 0 minute and the final point end on 10 minutes\n",
    "# What is the velocity?"
   ]
  },
  {
   "cell_type": "code",
   "execution_count": 16,
   "metadata": {},
   "outputs": [
    {
     "name": "stdout",
     "output_type": "stream",
     "text": [
      "Your velocity is 0.5 meters per minute.\n"
     ]
    }
   ],
   "source": [
    "# Calculation:\n",
    "\n",
    "\n",
    "# 1. We have to calculate the displacement first, which we knew from the previous step :)\n",
    "displacement = cal_displacement(xi = 0, xf = 3,\n",
    "                                yi = 0, yf = 4)\n",
    "\n",
    "# 2. Now we can calculate the velocity given the time\n",
    "\n",
    "time = 10 # 10 minutes\n",
    "\n",
    "velocity = displacement / time\n",
    "\n",
    "print(f'Your velocity is {velocity} meters per minute.')"
   ]
  },
  {
   "cell_type": "markdown",
   "metadata": {},
   "source": [
    "### Acceleration"
   ]
  },
  {
   "cell_type": "markdown",
   "metadata": {},
   "source": [
    "Acceleration is how quickly something is speeding up or slowing down.\n",
    "\n",
    "If you press the gas pedal in a car, you’re accelerating because you’re increasing your speed.\n",
    "\n",
    "If you hit the brakes, you’re still accelerating, but in the opposite direction (this is called deceleration).\n",
    "\n",
    "In short, acceleration tells you how fast the velocity is changing—whether you’re speeding up, slowing down, or even changing direction."
   ]
  },
  {
   "cell_type": "markdown",
   "metadata": {},
   "source": [
    "A textbook definition is:\n",
    "\n",
    "Acceleration is the **rate of change of velocity over time**. It is a vector quantity, meaning it has both magnitude and direction. Mathematically, acceleration (𝑎) is calculated as:\n",
    "\n",
    "$\n",
    "\\boxed{a = \\frac{\\Delta v}{\\Delta t}}\n",
    "$\n",
    "\n",
    "Where:\n",
    "\n",
    "$\n",
    "\\Delta v = \\text{the change in velocity (final velocity minus initial velocity)}\n",
    "$\n",
    "\n",
    "$\n",
    "\\Delta t = \\text{the time taken for that change}\n",
    "$"
   ]
  },
  {
   "cell_type": "code",
   "execution_count": null,
   "metadata": {},
   "outputs": [],
   "source": []
  },
  {
   "cell_type": "code",
   "execution_count": null,
   "metadata": {},
   "outputs": [],
   "source": []
  },
  {
   "cell_type": "code",
   "execution_count": null,
   "metadata": {},
   "outputs": [],
   "source": []
  },
  {
   "cell_type": "code",
   "execution_count": null,
   "metadata": {},
   "outputs": [],
   "source": []
  },
  {
   "cell_type": "code",
   "execution_count": null,
   "metadata": {},
   "outputs": [],
   "source": []
  },
  {
   "cell_type": "code",
   "execution_count": null,
   "metadata": {},
   "outputs": [],
   "source": []
  },
  {
   "cell_type": "code",
   "execution_count": null,
   "metadata": {},
   "outputs": [],
   "source": []
  },
  {
   "cell_type": "code",
   "execution_count": null,
   "metadata": {},
   "outputs": [],
   "source": []
  }
 ],
 "metadata": {
  "kernelspec": {
   "display_name": "ap_physics",
   "language": "python",
   "name": "python3"
  },
  "language_info": {
   "codemirror_mode": {
    "name": "ipython",
    "version": 3
   },
   "file_extension": ".py",
   "mimetype": "text/x-python",
   "name": "python",
   "nbconvert_exporter": "python",
   "pygments_lexer": "ipython3",
   "version": "3.10.12"
  }
 },
 "nbformat": 4,
 "nbformat_minor": 2
}
