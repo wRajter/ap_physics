{
 "cells": [
  {
   "cell_type": "code",
   "execution_count": 60,
   "metadata": {},
   "outputs": [],
   "source": [
    "import matplotlib.pyplot as plt\n",
    "import numpy as np\n",
    "import math"
   ]
  },
  {
   "cell_type": "code",
   "execution_count": 53,
   "metadata": {},
   "outputs": [],
   "source": [
    "# FUNCTIONS\n",
    "\n",
    "def cal_positive_limits(p1, p2):\n",
    "    # Set positive axis limits based on the maximum of the two points\n",
    "    max_val = max(p1, p2, 0)  # Include 0 to ensure origin is visible\n",
    "    return max_val + 2  # Adding 2 units for margin\n",
    "\n",
    "def cal_negative_limits(p1, p2):\n",
    "    # Set negative axis limits based on the minimum of the two points\n",
    "    min_val = min(p1, p2, 0)  # Include 0 to ensure origin is visible\n",
    "    return min_val - 2  # Subtract 2 units for margin\n",
    "\n",
    "\n",
    "def draw_xy_plane(pi, pf):\n",
    "\n",
    "    # pi = point initial\n",
    "    # pf = poing final\n",
    "    # They should be a tuple, eg. pi = (2, 3)\n",
    "\n",
    "    # Create the figure and axis\n",
    "    fig, ax = plt.subplots()\n",
    "\n",
    "    pi_x, pi_y = pi\n",
    "    pf_x, pf_y = pf\n",
    "\n",
    "    # Set x and y axis limits\n",
    "    x_lim_positive = cal_positive_limits(pi_x, pf_x)\n",
    "    x_lim_negative = cal_negative_limits(pi_x, pf_x)\n",
    "    y_lim_positive = cal_positive_limits(pi_y, pf_y)\n",
    "    y_lim_negative = cal_negative_limits(pi_y, pf_y)\n",
    "\n",
    "    ax.set_xlim(x_lim_negative, x_lim_positive)\n",
    "    ax.set_ylim(y_lim_negative, y_lim_positive)\n",
    "\n",
    "    # Set integer ticks for the x and y axes\n",
    "    ax.set_xticks(np.arange(int(x_lim_negative), int(x_lim_positive) + 1, 1))  # Integers for x-axis\n",
    "    ax.set_yticks(np.arange(int(y_lim_negative), int(y_lim_positive) + 1, 1))  # Integers for y-axis\n",
    "\n",
    "    # Draw grid\n",
    "    ax.grid(True)\n",
    "\n",
    "\n",
    "    # Plot the initial point\n",
    "    ax.plot(pi_x, pi_y, marker=\"o\", color=\"red\", label=f\"Initial point ({pi_x},{pi_y})\")\n",
    "    # Plot the final point\n",
    "    ax.plot(pf_x, pf_y, marker=\"o\", color=\"red\", label=f\"Final point ({pf_x},{pf_y})\")\n",
    "\n",
    "    # Calculate the change in x and y for the vector\n",
    "    dx = pf_x - pi_x\n",
    "    dy = pf_y - pi_y\n",
    "\n",
    "    # Plot the vector from initial point to final point (use dx and dy)\n",
    "    ax.quiver(pi_x, pi_y, dx, dy, angles='xy', scale_units='xy', scale=1, color=\"blue\")\n",
    "\n",
    "    # Draw x and y axis lines\n",
    "    ax.axhline(0, color='black',linewidth=1.5)\n",
    "    ax.axvline(0, color='black',linewidth=1.5)\n",
    "\n",
    "    # Set labels and title\n",
    "    ax.set_xlabel(\"X-axis\")\n",
    "    ax.set_ylabel(\"Y-axis\")\n",
    "    ax.set_title(\"XY Plane with Vector\")\n",
    "\n",
    "    # Add legend\n",
    "    ax.legend()\n",
    "\n",
    "    # Show plot\n",
    "    return plt.show()\n"
   ]
  },
  {
   "cell_type": "markdown",
   "metadata": {},
   "source": [
    "# Kinematics"
   ]
  },
  {
   "cell_type": "markdown",
   "metadata": {},
   "source": [
    "### Basic Terms"
   ]
  },
  {
   "cell_type": "markdown",
   "metadata": {},
   "source": [
    "**Magnitude** refers to the size or quantity of something: **\"how much\" parts of something**\n",
    "\n",
    "Examples:\n",
    "- 2km represents a magnitude of distance\n",
    "- 5s represents a magnitude of time\n",
    "- 10 meters per second represents a magnitude of the velocity\n",
    "- 50 Newtons represents a magnitude of the strenght (pull or push)\n",
    "\n",
    "As you can see from the examples, the magnitude is normally expressed by a **number** and a **unite**.\n",
    "\n",
    "\n",
    "**Vector:** Quantity with magnitude (size) and direction (eg, 2km, south)\n",
    "\n",
    "**Scalar:** Quantity with magnitude (eg, 2km)\n",
    "\n",
    "**Position:** An object's location in space"
   ]
  },
  {
   "cell_type": "markdown",
   "metadata": {},
   "source": [
    "### Displacement"
   ]
  },
  {
   "cell_type": "markdown",
   "metadata": {},
   "source": [
    "**Displacement** is the shortest, straight-line path that connects the initial point to the final point, and it includes the direction from the initial to the final position.\n",
    "\n",
    "Displacement is a vector as it contains both the magnitude (the shortest distance) and the direction."
   ]
  },
  {
   "cell_type": "code",
   "execution_count": 57,
   "metadata": {},
   "outputs": [
    {
     "data": {
      "image/png": "[encoded data removed]",
      "text/plain": [
       "<Figure size 640x480 with 1 Axes>"
      ]
     },
     "metadata": {},
     "output_type": "display_data"
    }
   ],
   "source": [
    "# Draw a vector connectig the initial point and the final point -> displacement\n",
    "draw_xy_plane(pi=(1,1), pf=(3,4))"
   ]
  },
  {
   "cell_type": "markdown",
   "metadata": {},
   "source": [
    "**How to calculate the displacement**\n",
    "\n",
    "1. Find the change (delta) in the x-direction:\n",
    "$$\n",
    "\\boxed{\\Delta x = x_f - x_i} \\\\\n",
    "x_f = \\text{final position} \\\\\n",
    "x_i = \\text{initial position}\n",
    "$$\n",
    "\n",
    "2. Find the change (delta) in the y-direction:\n",
    "$$\n",
    "\\boxed{\\Delta y = y_f - y_i}\n",
    "$$\n",
    "\n",
    "3. Use the Pythagorean theorem to calculate the length of the hypotenuse (the magnitude of our displacement vector):\n",
    "$$\n",
    "\\boxed{|\\Delta \\vec{r}| = \\sqrt{(\\Delta x)^2 + (\\Delta y)^2}} \\\\\n",
    "\\Delta \\vec{r} = \\text{displacement vector}\n",
    "$$\n"
   ]
  },
  {
   "cell_type": "code",
   "execution_count": 63,
   "metadata": {},
   "outputs": [],
   "source": [
    "def cal_displacement(xi, xf, yi, yf):\n",
    "    # xi = initial position in x-direction\n",
    "    # xf = final position in x-direction\n",
    "    # yi = initial position in y-direction\n",
    "    # yf = final position in y-direction\n",
    "    \n",
    "    # 1. Find the change (delta) in the x-direction:\n",
    "    delta_x = xf - xi\n",
    "    # 2. Find the change (delta) in the y-direction:\n",
    "    delta_y = yf - yi\n",
    "    # 3. Use the Pythagorean theorem to calculate the length of the hypotenuse \n",
    "    # (the magnitude of our displacement vector):\n",
    "    disp_vector = math.sqrt((delta_x ** 2) + (delta_y ** 2))\n",
    "    return round(disp_vector, 2)\n",
    "    "
   ]
  },
  {
   "cell_type": "code",
   "execution_count": 65,
   "metadata": {},
   "outputs": [
    {
     "data": {
      "text/plain": [
       "5.0"
      ]
     },
     "execution_count": 65,
     "metadata": {},
     "output_type": "execute_result"
    }
   ],
   "source": [
    "cal_displacement(xi = 0, \n",
    "                 xf = 3, \n",
    "                 yi = 0, \n",
    "                 yf = 4)"
   ]
  },
  {
   "cell_type": "markdown",
   "metadata": {},
   "source": [
    "### Velocity"
   ]
  },
  {
   "cell_type": "code",
   "execution_count": null,
   "metadata": {},
   "outputs": [],
   "source": []
  },
  {
   "cell_type": "code",
   "execution_count": null,
   "metadata": {},
   "outputs": [],
   "source": []
  },
  {
   "cell_type": "code",
   "execution_count": null,
   "metadata": {},
   "outputs": [],
   "source": []
  },
  {
   "cell_type": "markdown",
   "metadata": {},
   "source": [
    "### Acceleration"
   ]
  },
  {
   "cell_type": "code",
   "execution_count": null,
   "metadata": {},
   "outputs": [],
   "source": []
  },
  {
   "cell_type": "code",
   "execution_count": null,
   "metadata": {},
   "outputs": [],
   "source": []
  }
 ],
 "metadata": {
  "kernelspec": {
   "display_name": "ap_physics",
   "language": "python",
   "name": "python3"
  },
  "language_info": {
   "codemirror_mode": {
    "name": "ipython",
    "version": 3
   },
   "file_extension": ".py",
   "mimetype": "text/x-python",
   "name": "python",
   "nbconvert_exporter": "python",
   "pygments_lexer": "ipython3",
   "version": "3.10.12"
  }
 },
 "nbformat": 4,
 "nbformat_minor": 2
}
